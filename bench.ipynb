{
 "cells": [
  {
   "cell_type": "markdown",
   "metadata": {},
   "source": [
    "# Bench"
   ]
  },
  {
   "cell_type": "code",
   "execution_count": null,
   "metadata": {},
   "outputs": [],
   "source": [
    "from nerus.utils import Record\n",
    "from nerus.path import join_path\n",
    "from nerus.load import load_raw\n",
    "from nerus.log import (\n",
    "    dot,\n",
    "    log_progress\n",
    ")\n",
    "from nerus.annotators import (\n",
    "    DeeppavlovBERTAnnotator,\n",
    "    MitieAnnotator,\n",
    "    PullentiAnnotator,\n",
    "    TexterraAnnotator,\n",
    "    NatashaAnnotator,\n",
    "    TomitaAnnotator,\n",
    ")\n",
    "from nerus.const import (\n",
    "    DUMPS_DIR,\n",
    "    NERUS_, NE5, RAW, JSONL, GZ,\n",
    "    DEEPPAVLOV, DEEPPAVLOV_BERT, PULLENTI, TEXTERRA, TOMITA, NATASHA, MITIE\n",
    ")\n",
    "from nerus.ctl.worker import (\n",
    "    worker_ip__,\n",
    "    worker_ssh_\n",
    ")"
   ]
  },
  {
   "cell_type": "markdown",
   "metadata": {},
   "source": [
    "## Texts"
   ]
  },
  {
   "cell_type": "code",
   "execution_count": null,
   "metadata": {},
   "outputs": [],
   "source": [
    "# path = join_path(DUMPS_DIR, NERUS_ + NE5 + RAW + JSONL + GZ)\n",
    "# texts = [_.text for _ in load_raw(path)]"
   ]
  },
  {
   "cell_type": "markdown",
   "metadata": {},
   "source": [
    "## Init"
   ]
  },
  {
   "cell_type": "code",
   "execution_count": null,
   "metadata": {},
   "outputs": [],
   "source": [
    "# host = worker_ip__()"
   ]
  },
  {
   "cell_type": "code",
   "execution_count": null,
   "metadata": {},
   "outputs": [],
   "source": [
    "# worker_ssh_('docker-compose up -d deeppavlov_bert', host)\n",
    "# annotator = DeeppavlovBERTAnnotator(host)\n",
    "# %time annotator.wait(dot)\n",
    "# worker_ssh_('docker-compose down', host)"
   ]
  },
  {
   "cell_type": "markdown",
   "metadata": {},
   "source": [
    "## Speed"
   ]
  },
  {
   "cell_type": "code",
   "execution_count": null,
   "metadata": {},
   "outputs": [],
   "source": [
    "# host = worker_ip__()\n",
    "# worker_ssh_('docker-compose up -d', host)"
   ]
  },
  {
   "cell_type": "code",
   "execution_count": null,
   "metadata": {},
   "outputs": [],
   "source": [
    "# annotator = PullentiAnnotator(host)\n",
    "# markups = annotator.map(texts)\n",
    "# for markup in log_progress(markups):\n",
    "#     pass"
   ]
  },
  {
   "cell_type": "markdown",
   "metadata": {},
   "source": [
    "## Notes"
   ]
  },
  {
   "cell_type": "code",
   "execution_count": null,
   "metadata": {},
   "outputs": [],
   "source": [
    "class Stats(Record):\n",
    "    __attributes__ = ['annotator', 'init', 'disk', 'ram', 'speed']\n",
    "    \n",
    "    def __init__(self, annotator, init=None, disk=None, ram=None, speed=None):\n",
    "        self.annotator = annotator\n",
    "        self.init = init\n",
    "        self.disk = disk\n",
    "        self.ram = ram\n",
    "        self.speed = speed\n",
    "        \n",
    "\n",
    "class GPUStats(Stats):\n",
    "    pass\n",
    "\n",
    "\n",
    "KB = 1024\n",
    "MB = 1024 * KB\n",
    "GB = 1024 * MB\n",
    "        \n",
    "\n",
    "STATS = [\n",
    "    # GTX 1080 Ti\n",
    "    GPUStats(\n",
    "        DEEPPAVLOV,\n",
    "        init=5.9,\n",
    "        disk=1 * GB,  # 1GB emb + 5MB model\n",
    "        ram=3 * GB,\n",
    "        speed=24.31,  # 1.95 / 7 cores on CPU\n",
    "    ),\n",
    "    GPUStats(\n",
    "        DEEPPAVLOV_BERT,\n",
    "        init=34.5,\n",
    "        disk=2 * GB,\n",
    "        ram=6 * GB,\n",
    "        speed=13.13,  # 17.71 / 3 cores on CPU\n",
    "    ),\n",
    "    \n",
    "    # 16 CPUs\n",
    "    Stats(\n",
    "        PULLENTI,\n",
    "        init=2.85,\n",
    "        disk=16 * MB,\n",
    "        ram=253 * MB,\n",
    "        speed=6.05\n",
    "    ),\n",
    "    Stats(\n",
    "        TEXTERRA,\n",
    "        init=47.6,\n",
    "        disk=193 * MB,\n",
    "        ram=3.3 * GB,  # leaks\n",
    "        speed=20.16 / 5  # utils ~5 cores\n",
    "    ),\n",
    "    Stats(\n",
    "        TOMITA,\n",
    "        init=2.03,\n",
    "        disk=64 * MB,\n",
    "        ram=63 * MB,\n",
    "        speed=29.8,\n",
    "    ),\n",
    "    Stats(\n",
    "        NATASHA,\n",
    "        init=2.05,\n",
    "        disk=700 * KB,\n",
    "        ram=160 * MB,\n",
    "        speed=8.8,\n",
    "    ),\n",
    "    Stats(\n",
    "        MITIE,\n",
    "        init=28.3,\n",
    "        disk=327 * MB,\n",
    "        ram=261 * MB,\n",
    "        speed=32.8,\n",
    "    ),    \n",
    "]"
   ]
  },
  {
   "cell_type": "code",
   "execution_count": null,
   "metadata": {},
   "outputs": [],
   "source": []
  }
 ],
 "metadata": {
  "kernelspec": {
   "display_name": "Python 3",
   "language": "python",
   "name": "python3"
  },
  "language_info": {
   "codemirror_mode": {
    "name": "ipython",
    "version": 3
   },
   "file_extension": ".py",
   "mimetype": "text/x-python",
   "name": "python",
   "nbconvert_exporter": "python",
   "pygments_lexer": "ipython3",
   "version": "3.5.1"
  }
 },
 "nbformat": 4,
 "nbformat_minor": 2
}
